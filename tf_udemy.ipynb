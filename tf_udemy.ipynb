{
  "nbformat": 4,
  "nbformat_minor": 0,
  "metadata": {
    "colab": {
      "name": "tf_udemy.ipynb",
      "provenance": [],
      "collapsed_sections": [],
      "authorship_tag": "ABX9TyPeUjlmsgwZEVwnA1Qs1vX5",
      "include_colab_link": true
    },
    "kernelspec": {
      "name": "python3",
      "display_name": "Python 3"
    }
  },
  "cells": [
    {
      "cell_type": "markdown",
      "metadata": {
        "id": "view-in-github",
        "colab_type": "text"
      },
      "source": [
        "<a href=\"https://colab.research.google.com/github/JOSEPHREDDY07/DeepLearning/blob/master/tf_udemy.ipynb\" target=\"_parent\"><img src=\"https://colab.research.google.com/assets/colab-badge.svg\" alt=\"Open In Colab\"/></a>"
      ]
    },
    {
      "cell_type": "code",
      "metadata": {
        "id": "hbh6RONPDV4j",
        "colab_type": "code",
        "colab": {
          "base_uri": "https://localhost:8080/",
          "height": 51
        },
        "outputId": "a8148c26-b8b7-4e60-fd53-ab93846e4559"
      },
      "source": [
        "#   import TensorFlow\n",
        "import tensorflow as tf\n",
        "import numpy as np\n",
        "import math\n",
        "import matplotlib.pyplot as plt\n",
        "import matplotlib.animation as animation # import animation support\n",
        "\n",
        "print(\"TensorFlow version: {}\".format(tf.__version__))\n",
        "print(\"Keras version: {}\".format(tf.keras.__version__))"
      ],
      "execution_count": 5,
      "outputs": [
        {
          "output_type": "stream",
          "text": [
            "TensorFlow version: 1.15.0\n",
            "Keras version: 2.2.4-tf\n"
          ],
          "name": "stdout"
        }
      ]
    },
    {
      "cell_type": "code",
      "metadata": {
        "id": "XvkOFuqlJ3Pb",
        "colab_type": "code",
        "colab": {
          "base_uri": "https://localhost:8080/",
          "height": 34
        },
        "outputId": "0a387452-f5aa-4d56-ba0b-eb7de21512e6"
      },
      "source": [
        "d0 = tf.ones((1,))\n",
        "d0"
      ],
      "execution_count": 28,
      "outputs": [
        {
          "output_type": "execute_result",
          "data": {
            "text/plain": [
              "<tf.Tensor 'ones_2:0' shape=(1,) dtype=float32>"
            ]
          },
          "metadata": {
            "tags": []
          },
          "execution_count": 28
        }
      ]
    },
    {
      "cell_type": "code",
      "metadata": {
        "id": "gQvKjuHfKHvu",
        "colab_type": "code",
        "colab": {
          "base_uri": "https://localhost:8080/",
          "height": 34
        },
        "outputId": "cd748882-2ba9-4835-9582-43a737ee3a13"
      },
      "source": [
        "d1 = tf.ones((5,5))\n",
        "d1"
      ],
      "execution_count": 30,
      "outputs": [
        {
          "output_type": "execute_result",
          "data": {
            "text/plain": [
              "<tf.Tensor 'ones_4:0' shape=(5, 5) dtype=float32>"
            ]
          },
          "metadata": {
            "tags": []
          },
          "execution_count": 30
        }
      ]
    },
    {
      "cell_type": "code",
      "metadata": {
        "id": "YF8hvifWKMrj",
        "colab_type": "code",
        "colab": {
          "base_uri": "https://localhost:8080/",
          "height": 34
        },
        "outputId": "9002674e-7e91-4d29-8b72-aa5aa48348d5"
      },
      "source": [
        "credit_constant = tf.constant(15)\n",
        "credit_constant"
      ],
      "execution_count": 32,
      "outputs": [
        {
          "output_type": "execute_result",
          "data": {
            "text/plain": [
              "<tf.Tensor 'Const_3:0' shape=() dtype=int32>"
            ]
          },
          "metadata": {
            "tags": []
          },
          "execution_count": 32
        }
      ]
    },
    {
      "cell_type": "code",
      "metadata": {
        "id": "ryEyvc2EDnsX",
        "colab_type": "code",
        "colab": {
          "base_uri": "https://localhost:8080/",
          "height": 51
        },
        "outputId": "d3967d16-9e9c-40ae-a2a3-c87735d07308"
      },
      "source": [
        "sess = tf.Session()\n",
        "\n",
        "# Verify we can print a string\n",
        "hello = tf.constant(\"Hello UNP from TensorFlow\")\n",
        "print(sess.run(credit_constant))\n",
        "print(sess.run(hello))"
      ],
      "execution_count": 33,
      "outputs": [
        {
          "output_type": "stream",
          "text": [
            "15\n",
            "b'Hello UNP from TensorFlow'\n"
          ],
          "name": "stdout"
        }
      ]
    },
    {
      "cell_type": "code",
      "metadata": {
        "id": "0hUwS6mHDssy",
        "colab_type": "code",
        "colab": {
          "base_uri": "https://localhost:8080/",
          "height": 34
        },
        "outputId": "c457e8ef-83bb-4b7e-83a5-a4705ec492fb"
      },
      "source": [
        "#   Perform some simple math\n",
        "a = tf.constant(20)\n",
        "b = tf.constant(22)\n",
        "print('a + b = {0}'.format(sess.run(a + b)))"
      ],
      "execution_count": 4,
      "outputs": [
        {
          "output_type": "stream",
          "text": [
            "a + b = 42\n"
          ],
          "name": "stdout"
        }
      ]
    },
    {
      "cell_type": "code",
      "metadata": {
        "id": "XvEGwUyTFgra",
        "colab_type": "code",
        "colab": {}
      },
      "source": [
        ""
      ],
      "execution_count": 0,
      "outputs": []
    },
    {
      "cell_type": "code",
      "metadata": {
        "id": "ESStkYTmFmQZ",
        "colab_type": "code",
        "colab": {}
      },
      "source": [
        "#  generation some house sizes between 1000 and 3500 (typical sq ft of house)\n",
        "num_house = 160\n",
        "np.random.seed(42)\n",
        "house_size = np.random.randint(low=1000, high=3500, size=num_house )"
      ],
      "execution_count": 0,
      "outputs": []
    },
    {
      "cell_type": "code",
      "metadata": {
        "id": "ggjvfWY7FtnU",
        "colab_type": "code",
        "colab": {}
      },
      "source": [
        "# Generate house prices from house size with a random noise added.\n",
        "np.random.seed(42)\n",
        "house_price = house_size * 100.0 + np.random.randint(low=20000, high=70000, size=num_house)  "
      ],
      "execution_count": 0,
      "outputs": []
    },
    {
      "cell_type": "code",
      "metadata": {
        "id": "HQVyV9hmFxN4",
        "colab_type": "code",
        "colab": {
          "base_uri": "https://localhost:8080/",
          "height": 279
        },
        "outputId": "e8b13db0-fbbb-4703-afe5-ba5f06ac132c"
      },
      "source": [
        "\n",
        "# Plot generated house and size \n",
        "plt.plot(house_size, house_price, \"bx\")  # bx = blue x\n",
        "plt.ylabel(\"Price\")\n",
        "plt.xlabel(\"Size\")\n",
        "plt.show()"
      ],
      "execution_count": 8,
      "outputs": [
        {
          "output_type": "display_data",
          "data": {
            "image/png": "[encoded data removed]",
            "text/plain": [
              "<Figure size 432x288 with 1 Axes>"
            ]
          },
          "metadata": {
            "tags": []
          }
        }
      ]
    },
    {
      "cell_type": "code",
      "metadata": {
        "id": "pEuawrmdF7Tc",
        "colab_type": "code",
        "colab": {}
      },
      "source": [
        "# you need to normalize values to prevent under/overflows.\n",
        "def normalize(array):\n",
        "    return (array - array.mean()) / array.std()\n"
      ],
      "execution_count": 0,
      "outputs": []
    },
    {
      "cell_type": "code",
      "metadata": {
        "id": "kC4Og61YF8ct",
        "colab_type": "code",
        "colab": {}
      },
      "source": [
        "\n",
        "# define number of training samples, 0.7 = 70%.  We can take the first 70% since the values are randomized\n",
        "num_train_samples = math.floor(num_house * 0.7)"
      ],
      "execution_count": 0,
      "outputs": []
    },
    {
      "cell_type": "code",
      "metadata": {
        "id": "NwGJpFJrGAOL",
        "colab_type": "code",
        "colab": {}
      },
      "source": [
        "# define training data\n",
        "train_house_size = np.asarray(house_size[:num_train_samples])\n",
        "train_price = np.asanyarray(house_price[:num_train_samples:])\n",
        "\n",
        "train_house_size_norm = normalize(train_house_size)\n",
        "train_price_norm = normalize(train_price)"
      ],
      "execution_count": 0,
      "outputs": []
    },
    {
      "cell_type": "code",
      "metadata": {
        "id": "XLMUOiYaGO1H",
        "colab_type": "code",
        "colab": {
          "base_uri": "https://localhost:8080/",
          "height": 279
        },
        "outputId": "cb86488c-753c-4063-b8e2-ee7a82decff0"
      },
      "source": [
        "\n",
        "# Plot generated house and size \n",
        "plt.plot(train_house_size_norm, train_price_norm, \"bx\")  # bx = blue x\n",
        "plt.ylabel(\"Price\")\n",
        "plt.xlabel(\"Size\")\n",
        "plt.show()"
      ],
      "execution_count": 12,
      "outputs": [
        {
          "output_type": "display_data",
          "data": {
            "image/png": "[encoded data removed]",
            "text/plain": [
              "<Figure size 432x288 with 1 Axes>"
            ]
          },
          "metadata": {
            "tags": []
          }
        }
      ]
    },
    {
      "cell_type": "code",
      "metadata": {
        "id": "mtCjLIMOGg1h",
        "colab_type": "code",
        "colab": {}
      },
      "source": [
        "# define test data\n",
        "test_house_size = np.array(house_size[num_train_samples:])\n",
        "test_house_price = np.array(house_price[num_train_samples:])\n",
        "\n",
        "test_house_size_norm = normalize(test_house_size)\n",
        "test_house_price_norm = normalize(test_house_price)\n"
      ],
      "execution_count": 0,
      "outputs": []
    },
    {
      "cell_type": "code",
      "metadata": {
        "id": "trzekzkcGj-_",
        "colab_type": "code",
        "colab": {
          "base_uri": "https://localhost:8080/",
          "height": 279
        },
        "outputId": "1bbb1bde-74ee-4c7c-88f4-c1fcde27a78f"
      },
      "source": [
        "# Plot generated house and size \n",
        "plt.plot(test_house_size_norm, test_house_price_norm, \"bx\")  # bx = blue x\n",
        "plt.ylabel(\"Price\")\n",
        "plt.xlabel(\"Size\")\n",
        "plt.show()"
      ],
      "execution_count": 14,
      "outputs": [
        {
          "output_type": "display_data",
          "data": {
            "image/png": "[encoded data removed]",
            "text/plain": [
              "<Figure size 432x288 with 1 Axes>"
            ]
          },
          "metadata": {
            "tags": []
          }
        }
      ]
    },
    {
      "cell_type": "code",
      "metadata": {
        "id": "SKRZe3C_GxXG",
        "colab_type": "code",
        "colab": {}
      },
      "source": [
        "#  Set up the TensorFlow placeholders that get updated as we descend down the gradient\n",
        "tf_house_size = tf.placeholder(\"float\", name=\"house_size\")\n",
        "tf_price = tf.placeholder(\"float\", name=\"price\")"
      ],
      "execution_count": 0,
      "outputs": []
    },
    {
      "cell_type": "code",
      "metadata": {
        "id": "HzFky9SgG9zf",
        "colab_type": "code",
        "colab": {}
      },
      "source": [
        "# Define the variables holding the size_factor and price we set during training.  \n",
        "# We initialize them to some random values based on the normal distribution.\n",
        "tf_size_factor = tf.Variable(np.random.randn(), name=\"size_factor\")\n",
        "tf_price_offset = tf.Variable(np.random.randn(), name=\"price_offset\")"
      ],
      "execution_count": 0,
      "outputs": []
    },
    {
      "cell_type": "code",
      "metadata": {
        "id": "ivuetkl5HAqN",
        "colab_type": "code",
        "colab": {}
      },
      "source": [
        "# 2. Define the operations for the predicting values - predicted price = (size_factor * house_size ) + price_offset\n",
        "#  Notice, the use of the tensorflow add and multiply functions.  These add the operations to the computation graph,\n",
        "#  AND the tensorflow methods understand how to deal with Tensors.  Therefore do not try to use numpy or other library \n",
        "#  methods.\n",
        "tf_price_pred = tf.add(tf.multiply(tf_size_factor, tf_house_size), tf_price_offset)"
      ],
      "execution_count": 0,
      "outputs": []
    },
    {
      "cell_type": "code",
      "metadata": {
        "id": "LQh5igcSHIxh",
        "colab_type": "code",
        "colab": {}
      },
      "source": [
        "# 3. Define the Loss Function (how much error) - Mean squared error\n",
        "tf_cost = tf.reduce_sum(tf.pow(tf_price_pred-tf_price, 2))/(2*num_train_samples)"
      ],
      "execution_count": 0,
      "outputs": []
    },
    {
      "cell_type": "code",
      "metadata": {
        "id": "t3k9Jc6nHNXF",
        "colab_type": "code",
        "colab": {
          "base_uri": "https://localhost:8080/",
          "height": 88
        },
        "outputId": "27c786d4-01f3-40bb-e346-7238785a714d"
      },
      "source": [
        "# Optimizer learning rate.  The size of the steps down the gradient\n",
        "learning_rate = 0.1\n",
        "\n",
        "# 4. define a Gradient descent optimizer that will minimize the loss defined in the operation \"cost\".\n",
        "optimizer = tf.train.GradientDescentOptimizer(learning_rate).minimize(tf_cost)"
      ],
      "execution_count": 20,
      "outputs": [
        {
          "output_type": "stream",
          "text": [
            "WARNING:tensorflow:From /usr/local/lib/python3.6/dist-packages/tensorflow_core/python/ops/math_grad.py:1375: where (from tensorflow.python.ops.array_ops) is deprecated and will be removed in a future version.\n",
            "Instructions for updating:\n",
            "Use tf.where in 2.0, which has the same broadcast rule as np.where\n"
          ],
          "name": "stdout"
        }
      ]
    },
    {
      "cell_type": "code",
      "metadata": {
        "id": "CrAnA-EIHRPk",
        "colab_type": "code",
        "colab": {}
      },
      "source": [
        "# Initializing the variables\n",
        "init = tf.global_variables_initializer()"
      ],
      "execution_count": 0,
      "outputs": []
    },
    {
      "cell_type": "code",
      "metadata": {
        "id": "nogLmlqGHcAS",
        "colab_type": "code",
        "colab": {
          "base_uri": "https://localhost:8080/",
          "height": 493
        },
        "outputId": "553abb6d-50b3-4409-e6fb-a44a1f7f9e6f"
      },
      "source": [
        "# Launch the graph in the session\n",
        "with tf.Session() as sess:\n",
        "    sess.run(init)\n",
        "\n",
        "    # set how often to display training progress and number of training iterations\n",
        "    display_every = 2\n",
        "    num_training_iter = 50\n",
        "\n",
        "    # calculate the number of lines to animation\n",
        "    fit_num_plots = math.floor(num_training_iter/display_every)\n",
        "    # add storage of factor and offset values from each epoch\n",
        "    fit_size_factor = np.zeros(fit_num_plots)\n",
        "    fit_price_offsets = np.zeros(fit_num_plots)\n",
        "    fit_plot_idx = 0    \n",
        "\n",
        "   # keep iterating the training data\n",
        "    for iteration in range(num_training_iter):\n",
        "\n",
        "        # Fit all training data\n",
        "        for (x, y) in zip(train_house_size_norm, train_price_norm):\n",
        "            sess.run(optimizer, feed_dict={tf_house_size: x, tf_price: y})\n",
        "\n",
        "        # Display current status\n",
        "        if (iteration + 1) % display_every == 0:\n",
        "            c = sess.run(tf_cost, feed_dict={tf_house_size: train_house_size_norm, tf_price:train_price_norm})\n",
        "            print(\"iteration #:\", '%04d' % (iteration + 1), \"cost=\", \"{:.9f}\".format(c), \\\n",
        "                \"size_factor=\", sess.run(tf_size_factor), \"price_offset=\", sess.run(tf_price_offset))\n",
        "            # Save the fit size_factor and price_offset to allow animation of learning process\n",
        "            fit_size_factor[fit_plot_idx] = sess.run(tf_size_factor)\n",
        "            fit_price_offsets[fit_plot_idx] = sess.run(tf_price_offset)\n",
        "            fit_plot_idx = fit_plot_idx + 1\n",
        "\n",
        "    print(\"Optimization Finished!\")\n",
        "    training_cost = sess.run(tf_cost, feed_dict={tf_house_size: train_house_size_norm, tf_price: train_price_norm})\n",
        "    print(\"Trained cost=\", training_cost, \"size_factor=\", sess.run(tf_size_factor), \"price_offset=\", sess.run(tf_price_offset), '\\n')\n",
        "\n",
        "\n",
        "   # Plot of training and test data, and learned regression\n",
        "    \n",
        "    # get values used to normalized data so we can denormalize data back to its original scale\n",
        "    train_house_size_mean = train_house_size.mean()\n",
        "    train_house_size_std = train_house_size.std()\n",
        "\n",
        "    train_price_mean = train_price.mean()\n",
        "    train_price_std = train_price.std()"
      ],
      "execution_count": 22,
      "outputs": [
        {
          "output_type": "stream",
          "text": [
            "iteration #: 0002 cost= 0.720058978 size_factor= 0.09177997 price_offset= -0.78197587\n",
            "iteration #: 0004 cost= 0.488989919 size_factor= 0.25305912 price_offset= -0.6400547\n",
            "iteration #: 0006 cost= 0.334198892 size_factor= 0.38506958 price_offset= -0.52387947\n",
            "iteration #: 0008 cost= 0.230510592 size_factor= 0.4931228 price_offset= -0.42877954\n",
            "iteration #: 0010 cost= 0.161057383 size_factor= 0.5815667 price_offset= -0.35093102\n",
            "iteration #: 0012 cost= 0.114538930 size_factor= 0.65396035 price_offset= -0.2872049\n",
            "iteration #: 0014 cost= 0.083384469 size_factor= 0.713216 price_offset= -0.23503916\n",
            "iteration #: 0016 cost= 0.062521778 size_factor= 0.76171756 price_offset= -0.19233663\n",
            "iteration #: 0018 cost= 0.048552584 size_factor= 0.8014175 price_offset= -0.1573807\n",
            "iteration #: 0020 cost= 0.039200630 size_factor= 0.8339127 price_offset= -0.1287661\n",
            "iteration #: 0022 cost= 0.032940891 size_factor= 0.86051065 price_offset= -0.10534229\n",
            "iteration #: 0024 cost= 0.028751854 size_factor= 0.882282 price_offset= -0.08616769\n",
            "iteration #: 0026 cost= 0.025949381 size_factor= 0.90010184 price_offset= -0.07047155\n",
            "iteration #: 0028 cost= 0.024075124 size_factor= 0.9146879 price_offset= -0.05762279\n",
            "iteration #: 0030 cost= 0.022822181 size_factor= 0.92662656 price_offset= -0.04710484\n",
            "iteration #: 0032 cost= 0.021984996 size_factor= 0.9363989 price_offset= -0.038494952\n",
            "iteration #: 0034 cost= 0.021425985 size_factor= 0.9443974 price_offset= -0.031446975\n",
            "iteration #: 0036 cost= 0.021052983 size_factor= 0.9509445 price_offset= -0.025677538\n",
            "iteration #: 0038 cost= 0.020804336 size_factor= 0.9563038 price_offset= -0.02095472\n",
            "iteration #: 0040 cost= 0.020638786 size_factor= 0.96069014 price_offset= -0.017088648\n",
            "iteration #: 0042 cost= 0.020528717 size_factor= 0.9642808 price_offset= -0.013923923\n",
            "iteration #: 0044 cost= 0.020455673 size_factor= 0.96721953 price_offset= -0.01133329\n",
            "iteration #: 0046 cost= 0.020407304 size_factor= 0.96962523 price_offset= -0.009212623\n",
            "iteration #: 0048 cost= 0.020375367 size_factor= 0.97159415 price_offset= -0.0074766623\n",
            "iteration #: 0050 cost= 0.020354357 size_factor= 0.97320557 price_offset= -0.006055611\n",
            "Optimization Finished!\n",
            "Trained cost= 0.020354357 size_factor= 0.97320557 price_offset= -0.006055611 \n",
            "\n"
          ],
          "name": "stdout"
        }
      ]
    },
    {
      "cell_type": "code",
      "metadata": {
        "id": "txBKqEhsH9is",
        "colab_type": "code",
        "colab": {
          "base_uri": "https://localhost:8080/",
          "height": 854
        },
        "outputId": "3df820a0-ec96-4741-df49-82b9ce45c4e8"
      },
      "source": [
        "  # Plot the graph\n",
        "    plt.rcParams[\"figure.figsize\"] = (10,8)\n",
        "    plt.figure()\n",
        "    plt.ylabel(\"Price\")\n",
        "    plt.xlabel(\"Size (sq.ft)\")\n",
        "    plt.plot(train_house_size, train_price, 'go', label='Training data')\n",
        "    plt.plot(test_house_size, test_house_price, 'mo', label='Testing data')\n",
        "    plt.plot(train_house_size_norm * train_house_size_std + train_house_size_mean,\n",
        "             (sess.run(tf_size_factor) * train_house_size_norm + sess.run(tf_price_offset)) * train_price_std + train_price_mean,\n",
        "             label='Learned Regression')\n",
        " \n",
        "    plt.legend(loc='upper left')\n",
        "    plt.show()"
      ],
      "execution_count": 23,
      "outputs": [
        {
          "output_type": "error",
          "ename": "RuntimeError",
          "evalue": "ignored",
          "traceback": [
            "\u001b[0;31m---------------------------------------------------------------------------\u001b[0m",
            "\u001b[0;31mRuntimeError\u001b[0m                              Traceback (most recent call last)",
            "\u001b[0;32m<ipython-input-23-65c011310d2c>\u001b[0m in \u001b[0;36m<module>\u001b[0;34m()\u001b[0m\n\u001b[1;32m      6\u001b[0m \u001b[0mplt\u001b[0m\u001b[0;34m.\u001b[0m\u001b[0mplot\u001b[0m\u001b[0;34m(\u001b[0m\u001b[0mtest_house_size\u001b[0m\u001b[0;34m,\u001b[0m \u001b[0mtest_house_price\u001b[0m\u001b[0;34m,\u001b[0m \u001b[0;34m'mo'\u001b[0m\u001b[0;34m,\u001b[0m \u001b[0mlabel\u001b[0m\u001b[0;34m=\u001b[0m\u001b[0;34m'Testing data'\u001b[0m\u001b[0;34m)\u001b[0m\u001b[0;34m\u001b[0m\u001b[0;34m\u001b[0m\u001b[0m\n\u001b[1;32m      7\u001b[0m plt.plot(train_house_size_norm * train_house_size_std + train_house_size_mean,\n\u001b[0;32m----> 8\u001b[0;31m          \u001b[0;34m(\u001b[0m\u001b[0msess\u001b[0m\u001b[0;34m.\u001b[0m\u001b[0mrun\u001b[0m\u001b[0;34m(\u001b[0m\u001b[0mtf_size_factor\u001b[0m\u001b[0;34m)\u001b[0m \u001b[0;34m*\u001b[0m \u001b[0mtrain_house_size_norm\u001b[0m \u001b[0;34m+\u001b[0m \u001b[0msess\u001b[0m\u001b[0;34m.\u001b[0m\u001b[0mrun\u001b[0m\u001b[0;34m(\u001b[0m\u001b[0mtf_price_offset\u001b[0m\u001b[0;34m)\u001b[0m\u001b[0;34m)\u001b[0m \u001b[0;34m*\u001b[0m \u001b[0mtrain_price_std\u001b[0m \u001b[0;34m+\u001b[0m \u001b[0mtrain_price_mean\u001b[0m\u001b[0;34m,\u001b[0m\u001b[0;34m\u001b[0m\u001b[0;34m\u001b[0m\u001b[0m\n\u001b[0m\u001b[1;32m      9\u001b[0m          label='Learned Regression')\n\u001b[1;32m     10\u001b[0m \u001b[0;34m\u001b[0m\u001b[0m\n",
            "\u001b[0;32m/usr/local/lib/python3.6/dist-packages/tensorflow_core/python/client/session.py\u001b[0m in \u001b[0;36mrun\u001b[0;34m(self, fetches, feed_dict, options, run_metadata)\u001b[0m\n\u001b[1;32m    954\u001b[0m     \u001b[0;32mtry\u001b[0m\u001b[0;34m:\u001b[0m\u001b[0;34m\u001b[0m\u001b[0;34m\u001b[0m\u001b[0m\n\u001b[1;32m    955\u001b[0m       result = self._run(None, fetches, feed_dict, options_ptr,\n\u001b[0;32m--> 956\u001b[0;31m                          run_metadata_ptr)\n\u001b[0m\u001b[1;32m    957\u001b[0m       \u001b[0;32mif\u001b[0m \u001b[0mrun_metadata\u001b[0m\u001b[0;34m:\u001b[0m\u001b[0;34m\u001b[0m\u001b[0;34m\u001b[0m\u001b[0m\n\u001b[1;32m    958\u001b[0m         \u001b[0mproto_data\u001b[0m \u001b[0;34m=\u001b[0m \u001b[0mtf_session\u001b[0m\u001b[0;34m.\u001b[0m\u001b[0mTF_GetBuffer\u001b[0m\u001b[0;34m(\u001b[0m\u001b[0mrun_metadata_ptr\u001b[0m\u001b[0;34m)\u001b[0m\u001b[0;34m\u001b[0m\u001b[0;34m\u001b[0m\u001b[0m\n",
            "\u001b[0;32m/usr/local/lib/python3.6/dist-packages/tensorflow_core/python/client/session.py\u001b[0m in \u001b[0;36m_run\u001b[0;34m(self, handle, fetches, feed_dict, options, run_metadata)\u001b[0m\n\u001b[1;32m   1101\u001b[0m     \u001b[0;31m# Check session.\u001b[0m\u001b[0;34m\u001b[0m\u001b[0;34m\u001b[0m\u001b[0;34m\u001b[0m\u001b[0m\n\u001b[1;32m   1102\u001b[0m     \u001b[0;32mif\u001b[0m \u001b[0mself\u001b[0m\u001b[0;34m.\u001b[0m\u001b[0m_closed\u001b[0m\u001b[0;34m:\u001b[0m\u001b[0;34m\u001b[0m\u001b[0;34m\u001b[0m\u001b[0m\n\u001b[0;32m-> 1103\u001b[0;31m       \u001b[0;32mraise\u001b[0m \u001b[0mRuntimeError\u001b[0m\u001b[0;34m(\u001b[0m\u001b[0;34m'Attempted to use a closed Session.'\u001b[0m\u001b[0;34m)\u001b[0m\u001b[0;34m\u001b[0m\u001b[0;34m\u001b[0m\u001b[0m\n\u001b[0m\u001b[1;32m   1104\u001b[0m     \u001b[0;32mif\u001b[0m \u001b[0mself\u001b[0m\u001b[0;34m.\u001b[0m\u001b[0mgraph\u001b[0m\u001b[0;34m.\u001b[0m\u001b[0mversion\u001b[0m \u001b[0;34m==\u001b[0m \u001b[0;36m0\u001b[0m\u001b[0;34m:\u001b[0m\u001b[0;34m\u001b[0m\u001b[0;34m\u001b[0m\u001b[0m\n\u001b[1;32m   1105\u001b[0m       raise RuntimeError('The Session graph is empty.  Add operations to the '\n",
            "\u001b[0;31mRuntimeError\u001b[0m: Attempted to use a closed Session."
          ]
        },
        {
          "output_type": "display_data",
          "data": {
            "image/png": "[encoded data removed]",
            "text/plain": [
              "<Figure size 720x576 with 1 Axes>"
            ]
          },
          "metadata": {
            "tags": []
          }
        }
      ]
    },
    {
      "cell_type": "code",
      "metadata": {
        "id": "AUt2OfuUIVW3",
        "colab_type": "code",
        "colab": {
          "base_uri": "https://localhost:8080/",
          "height": 513
        },
        "outputId": "eeec9eb9-1afd-4c05-dc7d-79603619ee4f"
      },
      "source": [
        "# Plot another graph that animation of how Gradient Descent sequentually adjusted size_factor and price_offset to \n",
        "    # find the values that returned the \"best\" fit line.\n",
        "    fig, ax = plt.subplots()\n",
        "    line, = ax.plot(house_size, house_price)\n",
        "\n",
        "    plt.rcParams[\"figure.figsize\"] = (10,8)\n",
        "    plt.title(\"Gradient Descent Fitting Regression Line\")\n",
        "    plt.ylabel(\"Price\")\n",
        "    plt.xlabel(\"Size (sq.ft)\")\n",
        "    plt.plot(train_house_size, train_price, 'go', label='Training data')\n",
        "    plt.plot(test_house_size, test_house_price, 'mo', label='Testing data')\n",
        "\n",
        "    def animate(i):\n",
        "        line.set_xdata(train_house_size_norm * train_house_size_std + train_house_size_mean)  # update the data\n",
        "        line.set_ydata((fit_size_factor[i] * train_house_size_norm + fit_price_offsets[i]) * train_price_std + train_price_mean)  # update the data\n",
        "        return line,\n",
        " \n",
        "     # Init only required for blitting to give a clean slate.\n",
        "    def initAnim():\n",
        "        line.set_ydata(np.zeros(shape=house_price.shape[0])) # set y's to 0\n",
        "        return line,\n",
        "\n",
        "    ani = animation.FuncAnimation(fig, animate, frames=np.arange(0, fit_plot_idx), init_func=initAnim,\n",
        "                                 interval=1000, blit=True)\n",
        "\n",
        "    plt.show()   \n"
      ],
      "execution_count": 25,
      "outputs": [
        {
          "output_type": "display_data",
          "data": {
            "image/png": "[encoded data removed]",
            "text/plain": [
              "<Figure size 720x576 with 1 Axes>"
            ]
          },
          "metadata": {
            "tags": []
          }
        }
      ]
    }
  ]
}