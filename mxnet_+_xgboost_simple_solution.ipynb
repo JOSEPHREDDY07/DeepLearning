{
  "nbformat": 4,
  "nbformat_minor": 0,
  "metadata": {
    "language_info": {
      "name": "python",
      "version": "3.6.6",
      "mimetype": "text/x-python",
      "codemirror_mode": {
        "name": "ipython",
        "version": 3
      },
      "pygments_lexer": "ipython3",
      "nbconvert_exporter": "python",
      "file_extension": ".py"
    },
    "kernelspec": {
      "display_name": "Python 3",
      "language": "python",
      "name": "python3"
    },
    "colab": {
      "name": "mxnet + xgboost simple solution.ipynb",
      "provenance": [],
      "collapsed_sections": [],
      "include_colab_link": true
    }
  },
  "cells": [
    {
      "cell_type": "markdown",
      "metadata": {
        "id": "view-in-github",
        "colab_type": "text"
      },
      "source": [
        "<a href=\"https://colab.research.google.com/github/JOSEPHREDDY07/DeepLearning/blob/master/mxnet_%2B_xgboost_simple_solution.ipynb\" target=\"_parent\"><img src=\"https://colab.research.google.com/assets/colab-badge.svg\" alt=\"Open In Colab\"/></a>"
      ]
    },
    {
      "cell_type": "code",
      "metadata": {
        "_kg_hide-input": false,
        "id": "zHb8WL9ks_tl",
        "colab_type": "code",
        "colab": {
          "base_uri": "https://localhost:8080/",
          "height": 367
        },
        "outputId": "8f7ff2b8-f073-42d4-d721-fe20dbe0f2d0"
      },
      "source": [
        "import mxnet as mx\n",
        "import xgboost as xgb\n",
        "import numpy as np\n",
        "import cv2\n",
        "from multiprocessing import Pool\n",
        "import os\n",
        "from sklearn import cross_validation\n",
        "import joblib\n",
        "\n",
        "\n",
        "def get_extractor():\n",
        "    model = mx.model.FeedForward.load('InceptionBN/Inception', 9, ctx=mx.cpu(),\n",
        "                                      numpy_batch_size=1)\n",
        "\n",
        "    internals = model.symbol.get_internals()\n",
        "    fea_symbol = internals[\"global_pool_output\"]\n",
        "\n",
        "    # if you have GPU, then change ctx=mx.gpu()\n",
        "    feature_extractor = mx.model.FeedForward(ctx=mx.cpu(), symbol=fea_symbol,\n",
        "                                             numpy_batch_size=4,\n",
        "                                             arg_params=model.arg_params, aux_params=model.aux_params,\n",
        "                                             allow_extra_params=True)\n",
        "\n",
        "    return feature_extractor\n",
        "\n",
        "\n",
        "def preprocess_image(path):\n",
        "    img = cv2.imread(path)\n",
        "    if img is None:\n",
        "        return np.zeros((1, 3, 224, 224))\n",
        "    img = img[:, :, [2, 1, 0]]\n",
        "\n",
        "    short_egde = min(img.shape[:2])\n",
        "    yy = int((img.shape[0] - short_egde) / 2)\n",
        "    xx = int((img.shape[1] - short_egde) / 2)\n",
        "    img = img[yy: yy + short_egde, xx: xx + short_egde]\n",
        "\n",
        "    img = cv2.resize(img, (224, 224))\n",
        "\n",
        "    img = np.swapaxes(img, 0, 2)\n",
        "    img = np.swapaxes(img, 1, 2).astype(np.float32)\n",
        "\n",
        "    img -= 117\n",
        "    return img.reshape([1, 3, 224, 224])\n",
        "\n",
        "\n",
        "def extract_features():\n",
        "    os.mkdir('feats')\n",
        "    folders = sorted(os.listdir('train'))\n",
        "    \n",
        "    print(folders)\n",
        "    for n, dir in enumerate(folders):\n",
        "        folder = os.path.join('train', dir)\n",
        "        paths = sorted([os.path.join(folder, fn) for fn in os.listdir(folder)])\n",
        "\n",
        "        pool = Pool(20)\n",
        "        img_samples = pool.map(preprocess_image, paths)\n",
        "        samples = np.vstack(img_samples)\n",
        "\n",
        "        model = get_extractor()\n",
        "        global_pooling_feature = model.predict(samples)\n",
        "        np.save(os.path.join('feats', 'feats%s' % n), global_pooling_feature)\n",
        "\n",
        "\n",
        "def train_xgb():\n",
        "    x, y = [], []\n",
        "    for i in range(8):\n",
        "        feats = np.load('feats/feats%s.npy' % i)\n",
        "        print(feats.shape)\n",
        "        feats = feats.reshape((feats.shape[0], 1024))\n",
        "        x.append(feats)\n",
        "        y += [i] * feats.shape[0]\n",
        "\n",
        "    x = np.vstack(x)\n",
        "    y = np.array(y)\n",
        "\n",
        "    print(x.shape, y.shape)\n",
        "    x_train, x_test, y_train, y_test = cross_validation.train_test_split(x, y, random_state=42, stratify=y,\n",
        "                                                                         test_size=0.20)\n",
        "\n",
        "    clf = xgb.XGBClassifier(max_depth=5,\n",
        "                            n_estimators=500,\n",
        "                            learning_rate=0.1,\n",
        "                            nthread=-1,\n",
        "                            objective='multi:softmax',\n",
        "                            seed=42)\n",
        "\n",
        "    clf.fit(x_train, y_train, early_stopping_rounds=30, eval_metric=\"mlogloss\",\n",
        "            eval_set=[(x_test, y_test)])\n",
        "\n",
        "    joblib.dump(clf, \"xgb_model\")\n",
        "\n",
        "\n",
        "def predict():\n",
        "    feats = np.load('feats/feats%s.npy' % 8)\n",
        "    feats = feats.reshape((feats.shape[0], 1024))\n",
        "\n",
        "    clf = joblib.load(\"xgb_model\")\n",
        "    pred = clf.predict_proba(feats)\n",
        "\n",
        "    print(pred.shape)\n",
        "\n",
        "    np.save('preds', pred)\n",
        "\n",
        "\n",
        "def make_submite():\n",
        "    preds = np.load('preds.npy')\n",
        "    paths = sorted([fn for fn in os.listdir('train/test')])\n",
        "\n",
        "    fw_out = open('submission_0.csv', 'w')\n",
        "    fw_out.write('image,ALB,BET,DOL,LAG,NoF,OTHER,SHARK,YFT\\n')\n",
        "    for i, img in enumerate(paths):\n",
        "        pred = ['%.6f' % p for p in preds[i, :]]\n",
        "        fw_out.write('%s,%s\\n' % (img, ','.join(pred)))\n",
        "\n",
        "\n",
        "if __name__ == '__main__':\n",
        "    extract_features()\n",
        "    train_xgb()\n",
        "    predict()\n",
        "    make_submite()\n"
      ],
      "execution_count": 1,
      "outputs": [
        {
          "output_type": "error",
          "ename": "ModuleNotFoundError",
          "evalue": "ignored",
          "traceback": [
            "\u001b[0;31m---------------------------------------------------------------------------\u001b[0m",
            "\u001b[0;31mModuleNotFoundError\u001b[0m                       Traceback (most recent call last)",
            "\u001b[0;32m<ipython-input-1-c15d39d5673b>\u001b[0m in \u001b[0;36m<module>\u001b[0;34m()\u001b[0m\n\u001b[0;32m----> 1\u001b[0;31m \u001b[0;32mimport\u001b[0m \u001b[0mmxnet\u001b[0m \u001b[0;32mas\u001b[0m \u001b[0mmx\u001b[0m\u001b[0;34m\u001b[0m\u001b[0;34m\u001b[0m\u001b[0m\n\u001b[0m\u001b[1;32m      2\u001b[0m \u001b[0;32mimport\u001b[0m \u001b[0mxgboost\u001b[0m \u001b[0;32mas\u001b[0m \u001b[0mxgb\u001b[0m\u001b[0;34m\u001b[0m\u001b[0;34m\u001b[0m\u001b[0m\n\u001b[1;32m      3\u001b[0m \u001b[0;32mimport\u001b[0m \u001b[0mnumpy\u001b[0m \u001b[0;32mas\u001b[0m \u001b[0mnp\u001b[0m\u001b[0;34m\u001b[0m\u001b[0;34m\u001b[0m\u001b[0m\n\u001b[1;32m      4\u001b[0m \u001b[0;32mimport\u001b[0m \u001b[0mcv2\u001b[0m\u001b[0;34m\u001b[0m\u001b[0;34m\u001b[0m\u001b[0m\n\u001b[1;32m      5\u001b[0m \u001b[0;32mfrom\u001b[0m \u001b[0mmultiprocessing\u001b[0m \u001b[0;32mimport\u001b[0m \u001b[0mPool\u001b[0m\u001b[0;34m\u001b[0m\u001b[0;34m\u001b[0m\u001b[0m\n",
            "\u001b[0;31mModuleNotFoundError\u001b[0m: No module named 'mxnet'",
            "",
            "\u001b[0;31m---------------------------------------------------------------------------\u001b[0;32m\nNOTE: If your import is failing due to a missing package, you can\nmanually install dependencies using either !pip or !apt.\n\nTo view examples of installing some common dependencies, click the\n\"Open Examples\" button below.\n\u001b[0;31m---------------------------------------------------------------------------\u001b[0m\n"
          ]
        }
      ]
    },
    {
      "cell_type": "code",
      "metadata": {
        "id": "1yCpiV8VtVpb",
        "colab_type": "code",
        "colab": {}
      },
      "source": [
        ""
      ],
      "execution_count": 0,
      "outputs": []
    },
    {
      "cell_type": "code",
      "metadata": {
        "id": "qPnTpF33tX0O",
        "colab_type": "code",
        "colab": {}
      },
      "source": [
        ""
      ],
      "execution_count": 0,
      "outputs": []
    }
  ]
}